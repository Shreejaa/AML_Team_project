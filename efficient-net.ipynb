{
 "cells": [
  {
   "cell_type": "code",
   "execution_count": 14,
   "metadata": {
    "_cell_guid": "b1076dfc-b9ad-4769-8c92-a6c4dae69d19",
    "_uuid": "8f2839f25d086af736a60e9eeb907d3b93b6e0e5",
    "execution": {
     "iopub.execute_input": "2021-11-28T06:38:07.762036Z",
     "iopub.status.busy": "2021-11-28T06:38:07.761551Z",
     "iopub.status.idle": "2021-11-28T06:38:07.773235Z",
     "shell.execute_reply": "2021-11-28T06:38:07.772024Z",
     "shell.execute_reply.started": "2021-11-28T06:38:07.762003Z"
    }
   },
   "outputs": [],
   "source": [
    "import numpy as np\n",
    "import pandas as pd\n",
    "import tensorflow as tf\n",
    "import sklearn\n",
    "import matplotlib.pyplot as plt\n",
    "from sklearn.model_selection import KFold\n",
    "from tensorflow import keras"
   ]
  },
  {
   "cell_type": "code",
   "execution_count": 15,
   "metadata": {
    "execution": {
     "iopub.execute_input": "2021-11-28T06:38:07.776864Z",
     "iopub.status.busy": "2021-11-28T06:38:07.775930Z",
     "iopub.status.idle": "2021-11-28T06:38:07.818850Z",
     "shell.execute_reply": "2021-11-28T06:38:07.817775Z",
     "shell.execute_reply.started": "2021-11-28T06:38:07.776816Z"
    }
   },
   "outputs": [],
   "source": [
    "train = pd.read_csv(\"../input/petfinder-pawpularity-score/train.csv\")\n",
    "test = pd.read_csv(\"../input/petfinder-pawpularity-score/test.csv\")\n",
    "sample_submission = pd.read_csv(\"../input/petfinder-pawpularity-score/sample_submission.csv\")"
   ]
  },
  {
   "cell_type": "code",
   "execution_count": 16,
   "metadata": {
    "execution": {
     "iopub.execute_input": "2021-11-28T06:38:07.821096Z",
     "iopub.status.busy": "2021-11-28T06:38:07.820720Z",
     "iopub.status.idle": "2021-11-28T06:38:07.837279Z",
     "shell.execute_reply": "2021-11-28T06:38:07.836032Z",
     "shell.execute_reply.started": "2021-11-28T06:38:07.821025Z"
    }
   },
   "outputs": [],
   "source": [
    "train[\"file_path\"] = train[\"Id\"].apply(lambda identifier: \"../input/petfinder-pawpularity-score/train/\" + identifier + \".jpg\")\n",
    "test[\"file_path\"] = test[\"Id\"].apply(lambda identifier: \"../input/petfinder-pawpularity-score/test/\" + identifier + \".jpg\")"
   ]
  },
  {
   "cell_type": "code",
   "execution_count": 17,
   "metadata": {
    "execution": {
     "iopub.execute_input": "2021-11-28T06:38:07.840031Z",
     "iopub.status.busy": "2021-11-28T06:38:07.839654Z",
     "iopub.status.idle": "2021-11-28T06:38:07.848487Z",
     "shell.execute_reply": "2021-11-28T06:38:07.847180Z",
     "shell.execute_reply.started": "2021-11-28T06:38:07.839983Z"
    }
   },
   "outputs": [],
   "source": [
    "tabular_columns = ['Subject Focus', 'Eyes', 'Face', 'Near', 'Action', 'Accessory', 'Group', 'Collage', 'Human', 'Occlusion', 'Info', 'Blur']\n",
    "image_size = 224\n",
    "batch_size = 120\n",
    "epochs = 100\n",
    "train_on_fold = None # Which Fold to train, train on all folds if None\n",
    "AUTO = tf.data.experimental.AUTOTUNE"
   ]
  },
  {
   "cell_type": "code",
   "execution_count": 18,
   "metadata": {
    "execution": {
     "iopub.execute_input": "2021-11-28T06:38:07.853170Z",
     "iopub.status.busy": "2021-11-28T06:38:07.852446Z",
     "iopub.status.idle": "2021-11-28T06:38:07.873990Z",
     "shell.execute_reply": "2021-11-28T06:38:07.872677Z",
     "shell.execute_reply.started": "2021-11-28T06:38:07.853123Z"
    }
   },
   "outputs": [],
   "source": [
    "def random_erasing(img, sl=0.1, sh=0.2, rl=0.4, p=0.3):\n",
    "    h = tf.shape(img)[0]\n",
    "    w = tf.shape(img)[1]\n",
    "    c = tf.shape(img)[2]\n",
    "    origin_area = tf.cast(h*w, tf.float32)\n",
    "\n",
    "    e_size_l = tf.cast(tf.round(tf.sqrt(origin_area * sl * rl)), tf.int32)\n",
    "    e_size_h = tf.cast(tf.round(tf.sqrt(origin_area * sh / rl)), tf.int32)\n",
    "\n",
    "    e_height_h = tf.minimum(e_size_h, h)\n",
    "    e_width_h = tf.minimum(e_size_h, w)\n",
    "\n",
    "    erase_height = tf.random.uniform(shape=[], minval=e_size_l, maxval=e_height_h, dtype=tf.int32)\n",
    "    erase_width = tf.random.uniform(shape=[], minval=e_size_l, maxval=e_width_h, dtype=tf.int32)\n",
    "\n",
    "    erase_area = tf.zeros(shape=[erase_height, erase_width, c])\n",
    "    erase_area = tf.cast(erase_area, tf.uint8)\n",
    "\n",
    "    pad_h = h - erase_height\n",
    "    pad_top = tf.random.uniform(shape=[], minval=0, maxval=pad_h, dtype=tf.int32)\n",
    "    pad_bottom = pad_h - pad_top\n",
    "\n",
    "    pad_w = w - erase_width\n",
    "    pad_left = tf.random.uniform(shape=[], minval=0, maxval=pad_w, dtype=tf.int32)\n",
    "    pad_right = pad_w - pad_left\n",
    "\n",
    "    erase_mask = tf.pad([erase_area], [[0,0],[pad_top, pad_bottom], [pad_left, pad_right], [0,0]], constant_values=1)\n",
    "    erase_mask = tf.squeeze(erase_mask, axis=0)\n",
    "    erased_img = tf.multiply(tf.cast(img,tf.float32), tf.cast(erase_mask, tf.float32))\n",
    "\n",
    "    return tf.cond(tf.random.uniform([], 0, 1) > p, lambda: tf.cast(img, img.dtype), lambda:  tf.cast(erased_img, img.dtype))"
   ]
  },
  {
   "cell_type": "code",
   "execution_count": 19,
   "metadata": {
    "execution": {
     "iopub.execute_input": "2021-11-28T06:38:07.877167Z",
     "iopub.status.busy": "2021-11-28T06:38:07.876195Z",
     "iopub.status.idle": "2021-11-28T06:38:07.885728Z",
     "shell.execute_reply": "2021-11-28T06:38:07.884666Z",
     "shell.execute_reply.started": "2021-11-28T06:38:07.876834Z"
    }
   },
   "outputs": [],
   "source": [
    "def data_augment(image):\n",
    "    image = tf.image.random_flip_left_right(image)\n",
    "    image = random_erasing(image)\n",
    "    return image"
   ]
  },
  {
   "cell_type": "code",
   "execution_count": 20,
   "metadata": {
    "execution": {
     "iopub.execute_input": "2021-11-28T06:38:07.887905Z",
     "iopub.status.busy": "2021-11-28T06:38:07.887133Z",
     "iopub.status.idle": "2021-11-28T06:38:07.899776Z",
     "shell.execute_reply": "2021-11-28T06:38:07.898562Z",
     "shell.execute_reply.started": "2021-11-28T06:38:07.887853Z"
    }
   },
   "outputs": [],
   "source": [
    "def preprocess_training(image_url, tabular):\n",
    "    image_string = tf.io.read_file(image_url)\n",
    "    image = tf.image.decode_jpeg(image_string, channels=3)\n",
    "    image = data_augment(image)\n",
    "    image = tf.image.central_crop(image, 1.0)\n",
    "    image = tf.image.resize(image, (image_size, image_size))\n",
    "    return (image, tabular[1:]), tf.cast(tabular[0], tf.float32)\n",
    "\n",
    "def preprocess_validation(image_url, tabular):\n",
    "    image_string = tf.io.read_file(image_url)\n",
    "    image = tf.image.decode_jpeg(image_string, channels=3)\n",
    "    image = tf.image.central_crop(image, 1.0)\n",
    "    image = tf.image.resize(image, (image_size, image_size))\n",
    "    return (image, tabular[1:]), tf.cast(tabular[0], tf.float32)"
   ]
  },
  {
   "cell_type": "code",
   "execution_count": 21,
   "metadata": {
    "execution": {
     "iopub.execute_input": "2021-11-28T06:38:07.902519Z",
     "iopub.status.busy": "2021-11-28T06:38:07.901581Z",
     "iopub.status.idle": "2021-11-28T06:38:07.913513Z",
     "shell.execute_reply": "2021-11-28T06:38:07.912345Z",
     "shell.execute_reply.started": "2021-11-28T06:38:07.902445Z"
    }
   },
   "outputs": [],
   "source": [
    "def base_model():\n",
    "    efficient_net = tf.keras.applications.EfficientNetB0(\n",
    "        weights = \"../input/efficientnet-b0-for-keras-no-top/efficientnetb0_notop.h5\", \n",
    "        include_top = False, \n",
    "        input_shape = (image_size, image_size, 3)\n",
    "    )    \n",
    "    efficient_net.trainable = False\n",
    "    return efficient_net"
   ]
  },
  {
   "cell_type": "code",
   "execution_count": 22,
   "metadata": {
    "execution": {
     "iopub.execute_input": "2021-11-28T06:38:07.917034Z",
     "iopub.status.busy": "2021-11-28T06:38:07.916737Z",
     "iopub.status.idle": "2021-11-28T06:38:11.015010Z",
     "shell.execute_reply": "2021-11-28T06:38:11.013892Z",
     "shell.execute_reply.started": "2021-11-28T06:38:07.917001Z"
    }
   },
   "outputs": [],
   "source": [
    "efficient_net = base_model()"
   ]
  },
  {
   "cell_type": "code",
   "execution_count": 23,
   "metadata": {
    "execution": {
     "iopub.execute_input": "2021-11-28T06:38:11.017138Z",
     "iopub.status.busy": "2021-11-28T06:38:11.016775Z",
     "iopub.status.idle": "2021-11-28T06:38:11.025772Z",
     "shell.execute_reply": "2021-11-28T06:38:11.024555Z",
     "shell.execute_reply.started": "2021-11-28T06:38:11.017090Z"
    }
   },
   "outputs": [],
   "source": [
    "def get_tabular_model(inputs):\n",
    "    width = 32\n",
    "    depth = 3\n",
    "    activation = \"relu\"\n",
    "    kernel_regularizer = keras.regularizers.l2()\n",
    "    x = keras.layers.Dense(\n",
    "            width, \n",
    "            activation=activation,\n",
    "            kernel_regularizer=kernel_regularizer\n",
    "        )(inputs)\n",
    "    for i in range(depth):\n",
    "        if i == 0:\n",
    "            x = inputs\n",
    "        x = keras.layers.Dense(\n",
    "            width, \n",
    "            activation=activation,\n",
    "            kernel_regularizer=kernel_regularizer\n",
    "        )(x)\n",
    "        if (i + 1) % 3 == 0:\n",
    "            x = keras.layers.Concatenate()([x, inputs])\n",
    "    return x"
   ]
  },
  {
   "cell_type": "code",
   "execution_count": 24,
   "metadata": {
    "execution": {
     "iopub.execute_input": "2021-11-28T06:38:11.030889Z",
     "iopub.status.busy": "2021-11-28T06:38:11.029592Z",
     "iopub.status.idle": "2021-11-28T06:38:11.040735Z",
     "shell.execute_reply": "2021-11-28T06:38:11.039666Z",
     "shell.execute_reply.started": "2021-11-28T06:38:11.030826Z"
    }
   },
   "outputs": [],
   "source": [
    "def get_model():\n",
    "    image_inputs = tf.keras.Input((image_size, image_size , 3))\n",
    "    tabular_inputs = tf.keras.Input(len(tabular_columns))\n",
    "    image_x = efficient_net(image_inputs)\n",
    "    image_x = tf.keras.layers.GlobalMaxPooling2D()(image_x)\n",
    "    #for _ in range(1):\n",
    "    #    image_x = tf.keras.layers.Dense(256, kernel_regularizer=tf.keras.regularizers.l2())(image_x)\n",
    "    image_x = tf.keras.layers.Dropout(0.5)(image_x)\n",
    "#     tabular_x = get_tabular_model(tabular_inputs)\n",
    "#     x = tf.keras.layers.Concatenate(axis=1)([image_x, tabular_x])\n",
    "    output = tf.keras.layers.Dense(1)(image_x)\n",
    "    model = tf.keras.Model(inputs=[image_inputs, tabular_inputs], outputs=[output])\n",
    "    return model"
   ]
  },
  {
   "cell_type": "code",
   "execution_count": 25,
   "metadata": {
    "execution": {
     "iopub.execute_input": "2021-11-28T06:38:11.043147Z",
     "iopub.status.busy": "2021-11-28T06:38:11.042697Z",
     "iopub.status.idle": "2021-11-28T06:38:11.055513Z",
     "shell.execute_reply": "2021-11-28T06:38:11.054347Z",
     "shell.execute_reply.started": "2021-11-28T06:38:11.043099Z"
    }
   },
   "outputs": [],
   "source": [
    "show_architecture = False\n",
    "if show_architecture:\n",
    "    model = get_model()\n",
    "    tf.keras.utils.plot_model(model, show_shapes=True)\n",
    "    print(model.summary())\n",
    "    image = np.random.normal(size=(1, image_size, image_size, 3))\n",
    "    tabular = np.random.normal(size=(1, len(tabular_columns)))\n",
    "    print(image.shape, tabular.shape)\n",
    "    print(model((image, tabular)).shape)"
   ]
  },
  {
   "cell_type": "code",
   "execution_count": 26,
   "metadata": {
    "execution": {
     "iopub.execute_input": "2021-11-28T06:38:11.058663Z",
     "iopub.status.busy": "2021-11-28T06:38:11.057305Z",
     "iopub.status.idle": "2021-11-28T07:42:16.351302Z",
     "shell.execute_reply": "2021-11-28T07:42:16.350237Z",
     "shell.execute_reply.started": "2021-11-28T06:38:11.058455Z"
    }
   },
   "outputs": [],
   "source": [
    "tf.keras.backend.clear_session()\n",
    "models = []\n",
    "historys = []\n",
    "kfold = KFold(n_splits=5, shuffle=True, random_state=123)\n",
    "for index, (train_indices, val_indices) in enumerate(kfold.split(train)):\n",
    "    if train_on_fold != None and train_on_fold != index:\n",
    "        continue\n",
    "    x_train = train.loc[train_indices, \"file_path\"]\n",
    "    tabular_train = train.loc[train_indices, [\"Pawpularity\"] + tabular_columns]\n",
    "    x_val= train.loc[val_indices, \"file_path\"]\n",
    "    tabular_val = train.loc[val_indices, [\"Pawpularity\"] + tabular_columns]\n",
    "    checkpoint_path = \"model_%d.h5\"%(index)\n",
    "    checkpoint = tf.keras.callbacks.ModelCheckpoint(\n",
    "        checkpoint_path, \n",
    "        save_best_only=True\n",
    "    )\n",
    "    early_stop = tf.keras.callbacks.EarlyStopping(\n",
    "        min_delta=1e-4, \n",
    "        patience=10\n",
    "    )\n",
    "    reduce_lr = tf.keras.callbacks.ReduceLROnPlateau(\n",
    "        factor=0.3,\n",
    "        patience=2, \n",
    "        min_lr=1e-7\n",
    "    )\n",
    "    callbacks = [early_stop, checkpoint, reduce_lr]\n",
    "    \n",
    "    optimizer = tf.keras.optimizers.Adam(1e-3)\n",
    "    \n",
    "    train_ds = tf.data.Dataset.from_tensor_slices((x_train, tabular_train)).map(preprocess_training).shuffle(512).batch(batch_size).cache().prefetch(AUTO)\n",
    "    val_ds = tf.data.Dataset.from_tensor_slices((x_val, tabular_val)).map(preprocess_validation).batch(batch_size).cache().prefetch(AUTO)\n",
    "    model = get_model()\n",
    "    model.compile(\n",
    "    loss = 'mse', \n",
    "    optimizer = 'Adam', \n",
    "    metrics = [tf.keras.metrics.RootMeanSquaredError(name=\"rmse\")])\n",
    "    history = model.fit(train_ds, epochs=epochs, validation_data=val_ds, callbacks=callbacks)\n",
    "    for metrics in [(\"loss\", \"val_loss\"), (\"rmse\", \"val_rmse\"),[\"lr\"]]:\n",
    "        pd.DataFrame(history.history, columns=metrics).plot()\n",
    "        plt.show()\n",
    "    model.load_weights(checkpoint_path)\n",
    "    historys.append(history)\n",
    "    models.append(model)"
   ]
  },
  {
   "cell_type": "code",
   "execution_count": 27,
   "metadata": {
    "execution": {
     "iopub.execute_input": "2021-11-28T07:42:16.353210Z",
     "iopub.status.busy": "2021-11-28T07:42:16.352909Z",
     "iopub.status.idle": "2021-11-28T07:42:17.201002Z",
     "shell.execute_reply": "2021-11-28T07:42:17.199572Z",
     "shell.execute_reply.started": "2021-11-28T07:42:16.353166Z"
    }
   },
   "outputs": [],
   "source": [
    "tf.keras.utils.plot_model(model, show_shapes=True)"
   ]
  },
  {
   "cell_type": "code",
   "execution_count": 28,
   "metadata": {
    "execution": {
     "iopub.execute_input": "2021-11-28T07:42:17.203944Z",
     "iopub.status.busy": "2021-11-28T07:42:17.203563Z",
     "iopub.status.idle": "2021-11-28T07:42:17.211208Z",
     "shell.execute_reply": "2021-11-28T07:42:17.209725Z",
     "shell.execute_reply.started": "2021-11-28T07:42:17.203898Z"
    }
   },
   "outputs": [],
   "source": [
    "def preprocess_test_data(image_url, tabular):\n",
    "    print(image_url, tabular)\n",
    "    image_string = tf.io.read_file(image_url)\n",
    "    image = tf.image.decode_jpeg(image_string, channels=3)\n",
    "    image = tf.image.central_crop(image, 1.0)\n",
    "    image = tf.image.resize(image, (image_size, image_size))\n",
    "    # 0 won't be used in prediction, but it's needed in this senario or the tabular variable is treated as label.\n",
    "    return (image, tabular), 0"
   ]
  },
  {
   "cell_type": "code",
   "execution_count": 29,
   "metadata": {
    "execution": {
     "iopub.execute_input": "2021-11-28T07:42:17.214254Z",
     "iopub.status.busy": "2021-11-28T07:42:17.213878Z",
     "iopub.status.idle": "2021-11-28T07:42:17.344795Z",
     "shell.execute_reply": "2021-11-28T07:42:17.343464Z",
     "shell.execute_reply.started": "2021-11-28T07:42:17.214198Z"
    }
   },
   "outputs": [],
   "source": [
    "test_ds = tf.data.Dataset.from_tensor_slices((test[\"file_path\"], test[tabular_columns])).map(preprocess_test_data).batch(batch_size).cache().prefetch(2)"
   ]
  },
  {
   "cell_type": "code",
   "execution_count": 30,
   "metadata": {
    "execution": {
     "iopub.execute_input": "2021-11-28T07:42:17.347478Z",
     "iopub.status.busy": "2021-11-28T07:42:17.347076Z",
     "iopub.status.idle": "2021-11-28T07:42:25.388094Z",
     "shell.execute_reply": "2021-11-28T07:42:25.386958Z",
     "shell.execute_reply.started": "2021-11-28T07:42:17.347419Z"
    }
   },
   "outputs": [],
   "source": [
    "total_results = []\n",
    "for model in models:\n",
    "    total_results.append(model.predict(test_ds).reshape(-1))\n",
    "results = np.mean(total_results, axis=0).reshape(-1)\n",
    "sample_submission[\"Pawpularity\"] = results\n",
    "sample_submission.to_csv(\"submission.csv\", index=False)"
   ]
  },
  {
   "cell_type": "code",
   "execution_count": 31,
   "metadata": {
    "execution": {
     "iopub.execute_input": "2021-11-28T07:42:25.390234Z",
     "iopub.status.busy": "2021-11-28T07:42:25.389870Z",
     "iopub.status.idle": "2021-11-28T07:42:25.409234Z",
     "shell.execute_reply": "2021-11-28T07:42:25.407814Z",
     "shell.execute_reply.started": "2021-11-28T07:42:25.390187Z"
    }
   },
   "outputs": [],
   "source": [
    "sample_submission.head(5)"
   ]
  },
  {
   "cell_type": "code",
   "execution_count": null,
   "metadata": {},
   "outputs": [],
   "source": []
  }
 ],
 "metadata": {
  "kernelspec": {
   "display_name": "Python 3",
   "language": "python",
   "name": "python3"
  },
  "language_info": {
   "codemirror_mode": {
    "name": "ipython",
    "version": 3
   },
   "file_extension": ".py",
   "mimetype": "text/x-python",
   "name": "python",
   "nbconvert_exporter": "python",
   "pygments_lexer": "ipython3",
   "version": "3.8.5"
  }
 },
 "nbformat": 4,
 "nbformat_minor": 4
}
